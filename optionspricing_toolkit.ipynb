{
 "cells": [
  {
   "cell_type": "markdown",
   "metadata": {},
   "source": [
    "#### Packages Used"
   ]
  },
  {
   "cell_type": "code",
   "execution_count": 24,
   "metadata": {},
   "outputs": [],
   "source": [
    "import numpy as np\n",
    "import math\n",
    "from scipy.stats import norm\n",
    "from scipy import integrate\n",
    "from scipy.integrate import solve_ivp\n",
    "import cmath"
   ]
  },
  {
   "cell_type": "markdown",
   "metadata": {},
   "source": [
    "#### Class Containing All Functions"
   ]
  },
  {
   "cell_type": "code",
   "execution_count": 25,
   "metadata": {},
   "outputs": [],
   "source": [
    "class OptionPricing:\n",
    "    def __init__(self):\n",
    "        pass\n",
    "\n",
    "    # Computes the stock price matrix in the CRR model\n",
    "    def CRR_stock(self, S_0, r, sigma, T, M):\n",
    "        delta_t = T / M  # Time step\n",
    "        beta = 0.5 * (math.exp(-r * delta_t) + math.exp((r + sigma**2) * delta_t))  # Beta value for the CRR model \n",
    "        u = beta + math.sqrt(math.pow(beta, 2) - 1)  # Up factor\n",
    "        d = 1 / u  # Down factor\n",
    "\n",
    "        # Generating an empty matrix for the stock prices\n",
    "        S = np.empty((M + 1, M + 1))\n",
    "\n",
    "        # Computing and inputting stock prices into the matrix 'S'\n",
    "        for i in range(M + 1):  # i represents the time step\n",
    "            for j in range(i + 1):  # j represents the number of up movements\n",
    "                S[j, i] = S_0 * (u ** j) * (d ** (i - j))  # Stock price at time i and j up movements\n",
    "\n",
    "        return S\n",
    "    \n",
    "    # Computes the option price using the Cox-Ross-Rubinstein (CRR) model\n",
    "    # for European and American call/put options\n",
    "    def CRR_Option(self, S_0, r, sigma, T, M, K, option_type='call', option_style='European'):\n",
    "        try:\n",
    "            # Check types of input parameters\n",
    "            if not all(isinstance(arg, (int, float)) for arg in [S_0, r, sigma, T, M, K]):\n",
    "                raise TypeError(\"All input parameters must be integers or floats.\")\n",
    "            \n",
    "            delta_t = T / M\n",
    "            beta = 0.5 * (math.exp(-r * delta_t) + math.exp((r + sigma**2) * delta_t))\n",
    "            u = beta + math.sqrt(math.pow(beta, 2) - 1)\n",
    "            d = beta - math.sqrt(math.pow(beta, 2) - 1)\n",
    "            q = (math.exp(r * delta_t) - d) / (u - d)  # Risk Neutral Probability \n",
    "\n",
    "            S = self.CRR_stock(S_0, r, sigma, T, M)  # Stock price matrix\n",
    "\n",
    "            # Computing option prices at maturity\n",
    "            if option_type == 'call':\n",
    "                V = np.maximum(0, S - K)\n",
    "            elif option_type == 'put':\n",
    "                V = np.maximum(0, K - S)\n",
    "            else:\n",
    "                raise ValueError(\"Option type must be either 'call' or 'put'.\")\n",
    "\n",
    "            # Backward induction to compute option prices\n",
    "            if option_style == 'European':\n",
    "                for i in range(M-1, -1, -1):\n",
    "                    for j in range(i+1):\n",
    "                        V[j, i] = math.exp(-r * delta_t) * (q * V[j, i+1] + (1 - q) * V[j+1, i+1])\n",
    "            elif option_style == 'American':\n",
    "                for i in range(M-1, -1, -1):\n",
    "                    for j in range(i+1):\n",
    "                        V[j, i] = max(V[j, i], math.exp(-r * delta_t) * (q * V[j, i+1] + (1 - q) * V[j+1, i+1]))\n",
    "\n",
    "            return V[0, 0]\n",
    "\n",
    "        except TypeError as e:\n",
    "            return e\n",
    "        except ValueError as e:\n",
    "            return e\n",
    "\n",
    "\n",
    "    # Computes the option price using the Black-Scholes model\n",
    "    # for European call/put options\n",
    "    def BlackScholes_Option(self, S_0, r, sigma, T, K, option_type='call'):\n",
    "        try:\n",
    "            # Check types of input parameters\n",
    "            if not all(isinstance(arg, (int, float)) for arg in [S_0, r, sigma, T, K]):\n",
    "                raise TypeError(\"All input parameters must be integers or floats.\")\n",
    "\n",
    "            d1 = (math.log(S_0 / K) + (r + (sigma ** 2) / 2) * T) / (sigma * math.sqrt(T))\n",
    "            d2 = d1 - sigma * math.sqrt(T)\n",
    "\n",
    "            if option_type == 'call':\n",
    "                V_0 = S_0 * norm.cdf(d1) - K * math.exp(-r * T) * norm.cdf(d2)\n",
    "            elif option_type == 'put':\n",
    "                V_0 = K * math.exp(-r * T) * norm.cdf(-d2) - S_0 * norm.cdf(-d1)\n",
    "            else:\n",
    "                raise ValueError(\"Option type must be either 'call' or 'put'.\")\n",
    "\n",
    "            return V_0\n",
    "        \n",
    "        except TypeError as e:\n",
    "            return e\n",
    "        except ValueError as e:\n",
    "            return e\n",
    "        \n",
    "\n",
    "    # Computes the option price using Monte Carlo simulation\n",
    "    # for European call/put options\n",
    "    def MonteCarlo_Option(self, S0, r, sigma, T, K, M, option_type='call'):\n",
    "        try:\n",
    "            # Check types of input parameters\n",
    "            if not all(isinstance(arg, (int, float)) for arg in [S0, r, sigma, T, K, M]):\n",
    "                raise TypeError(\"All input parameters must be integers or floats.\")\n",
    "\n",
    "            # Generate M samples from a standard normal distribution\n",
    "            X = np.random.normal(0, 1, M)\n",
    "\n",
    "            # Calculate terminal stock prices\n",
    "            ST = S0 * np.exp((r - 0.5 * sigma ** 2) * T + sigma * np.sqrt(T) * X)\n",
    "\n",
    "            # Define payoff functions for call and put options\n",
    "            def call_payoff(ST, K):\n",
    "                return np.maximum(ST - K, 0)\n",
    "\n",
    "            def put_payoff(ST, K):\n",
    "                return np.maximum(K - ST, 0)\n",
    "\n",
    "            # Determine payoff function based on option type\n",
    "            if option_type == 'call':\n",
    "                payoff_fun = call_payoff(ST, K)\n",
    "            elif option_type == 'put':\n",
    "                payoff_fun = put_payoff(ST, K)\n",
    "            else:\n",
    "                raise ValueError(\"Option type must be 'call' or 'put'.\")\n",
    "\n",
    "            # Discounted expected payoff\n",
    "            V0 = np.exp(-r * T) * np.mean(payoff_fun)\n",
    "\n",
    "            # Standard error and confidence intervals\n",
    "            se = np.std(payoff_fun) / np.sqrt(M)\n",
    "            z = 1.96  # 95% confidence interval\n",
    "            c1 = V0 - z * se\n",
    "            c2 = V0 + z * se\n",
    "\n",
    "            return V0, c1, c2\n",
    "\n",
    "        except TypeError as e:\n",
    "            return e\n",
    "        except ValueError as e:\n",
    "            return e\n",
    "\n",
    "\n",
    "    # Computes the option price using numerical integration\n",
    "    # for European call/put options\n",
    "    def BS_Price_Int(self, S0, r, sigma, T, K, option_type='call'):\n",
    "        try:\n",
    "            # Check types of input parameters\n",
    "            if not all(isinstance(arg, (int, float)) for arg in [S0, r, sigma, T, K]):\n",
    "                raise TypeError(\"All input parameters must be integers or floats.\")\n",
    "\n",
    "            # Define the payoff functions for call and put options\n",
    "            def call_payoff(ST, K):\n",
    "                return np.maximum(ST - K, 0)\n",
    "\n",
    "            def put_payoff(ST, K):\n",
    "                return np.maximum(K - ST, 0)\n",
    "\n",
    "            def integrand(x):\n",
    "                norm_const = 1 / math.sqrt(2 * math.pi)\n",
    "                exponent = (r - 0.5 * sigma ** 2) * T + sigma * math.sqrt(T) * x\n",
    "                stock_price_term = S0 * math.exp(exponent)\n",
    "\n",
    "                if option_type == 'call':\n",
    "                    payoff = call_payoff(stock_price_term, K)\n",
    "                elif option_type == 'put':\n",
    "                    payoff = put_payoff(stock_price_term, K)\n",
    "                else:\n",
    "                    raise ValueError(\"Option type must be 'call' or 'put'.\")\n",
    "\n",
    "                discount_factor = math.exp(-r * T)\n",
    "                normal_exp_term = math.exp(-0.5 * math.pow(x, 2))\n",
    "                V = norm_const * payoff * discount_factor * normal_exp_term\n",
    "                return V\n",
    "\n",
    "            integral = integrate.quad(integrand, -np.inf, np.inf)\n",
    "            return integral[0]\n",
    "\n",
    "        except TypeError as e:\n",
    "            return e\n",
    "        except ValueError as e:\n",
    "            return e\n",
    "        \n",
    "    # Computes the option price using the Laplace transform method in the Black-Scholes model\n",
    "    # for European call/put options    \n",
    "    def laplace_BS(self, S0, r, sigma, T, K, R, option_type='call'):\n",
    "        try:\n",
    "            # Check types of input parameters\n",
    "            if not all(isinstance(arg, (int, float)) for arg in [S0, r, sigma, T, K, R]):\n",
    "                raise TypeError(\"All input parameters must be integers or floats.\")\n",
    "\n",
    "            # Define the payoff functions for call and put options\n",
    "            def f_tilde(z):\n",
    "                if option_type == 'call':\n",
    "                    return cmath.exp((1 - z) * math.log(K)) / (z * (z - 1))\n",
    "                elif option_type == 'put':\n",
    "                    return cmath.exp((1 - z) * math.log(K)) / (z * (z - 1))\n",
    "    \n",
    "            # Define the characteristic function for the Black-Scholes model\n",
    "            def chi(u):\n",
    "                return cmath.exp(complex(0, 1) * u * (math.log(S0) + r * T) - (complex(0, 1) * u + cmath.exp(2 * cmath.log(u))) * math.pow(sigma, 2) / 2 * T)\n",
    "            \n",
    "            # Define the integrand for the Laplace transform method\n",
    "            def integrand(u):\n",
    "                return math.exp(-r * T) / math.pi * (f_tilde(R + complex(0, 1) * u) * chi(u - complex(0, 1) * R)).real\n",
    "\n",
    "            V0 = integrate.quad(integrand, 0, 50)\n",
    "            return V0\n",
    "\n",
    "        except TypeError as e:\n",
    "            return e\n",
    "        except ValueError as e:\n",
    "            return e\n",
    "\n",
    "    # Computes the option price using the finite difference scheme (explicit method)\n",
    "    def AmPerpPut_ODE(self, S_max, N, r, sigma, K):\n",
    "        try:\n",
    "            g = lambda S: np.maximum(K - S, 0)\n",
    "\n",
    "            S_grid = np.linspace(0, S_max, N + 1)\n",
    "            v_grid = np.zeros_like(S_grid)\n",
    "\n",
    "            def fun(x, v):\n",
    "                return np.array([v[1], 2 * r / (sigma ** 2 * x ** 2) * (v[0] - x * v[1])])\n",
    "\n",
    "            x_star = 2 * K * r / (2 * r + sigma ** 2)\n",
    "\n",
    "            v_grid[S_grid <= x_star] = g(S_grid[S_grid <= x_star])\n",
    "\n",
    "            result = solve_ivp(fun=fun, t_span=(x_star, S_max), y0=[g(x_star), -1], t_eval=S_grid[S_grid > x_star])\n",
    "            v_grid[S_grid > x_star] = result.y[0]\n",
    "\n",
    "            return S_grid, v_grid\n",
    "\n",
    "        except TypeError as e:\n",
    "            return e\n",
    "        except ValueError as e:\n",
    "            return e\n",
    "\n",
    "    # Compute the option price using the Laplace transform method in the Heston model\n",
    "    # for European call/put options\n",
    "    def laplace_heston(self, S0, r, nu0, kappa, lmbda, sigma_tilde, T, K, R, p):\n",
    "        try:\n",
    "            def f_tilde(z):\n",
    "                return p * cmath.exp((1 - z / p) * math.log(K)) / (z * (z - p))\n",
    "\n",
    "            def chi(u):\n",
    "                d = cmath.sqrt(math.pow(lmbda, 2) + math.pow(sigma_tilde, 2) * (complex(0, 1) * u + cmath.exp(2 * cmath.log(u))))\n",
    "                n = cmath.cosh(d * T / 2) + lmbda * cmath.sinh(d * T / 2) / d\n",
    "                z1 = math.exp(lmbda * T / 2)\n",
    "                z2 = (complex(0, 1) * u + cmath.exp(2 * cmath.log(u))) * cmath.sinh(d * T / 2) / d\n",
    "                v = cmath.exp(complex(0, 1) * u * (math.log(S0) + r * T)) * cmath.exp(2 * kappa / math.pow(sigma_tilde, 2) * cmath.log(z1 / n)) * cmath.exp(-nu0 * z2 / n)\n",
    "                return v\n",
    "\n",
    "            def integrand(u):\n",
    "                return math.exp(-r * T) / math.pi * (f_tilde(R + complex(0, 1) * u) * chi(u - complex(0, 1) * R)).real\n",
    "\n",
    "            V0 = integrate.quad(integrand, 0, 50)\n",
    "            return V0\n",
    "\n",
    "        except TypeError as e:\n",
    "            return e\n",
    "        except ValueError as e:\n",
    "            return e\n",
    "    \n",
    "\n",
    "    # Computes the option price using the finite difference scheme (explicit method)\n",
    "    # for European call/put options\n",
    "    def BS_EuOption_FiDi_Explicit(self, S0, r, sigma, T, K, m, nu_max, option_type='call'):\n",
    "        try:\n",
    "            q = 2 * r / sigma ** 2 \n",
    "            delta_x = (math.log(2 * K / S0)) / m  \n",
    "            delta_t = sigma ** 2 * T / (2 * nu_max) \n",
    "            fidi_lambda = delta_t / delta_x ** 2  \n",
    "            lambda_tilde = (1 - 2 * fidi_lambda) \n",
    "\n",
    "            x = np.arange(-m, m + 1) * delta_x \n",
    "            w = np.zeros((2 * m + 1, nu_max + 1))\n",
    "\n",
    "            if option_type == 'call':\n",
    "                w[:, 0] = np.maximum(S0 * np.exp(x) - K, 0)\n",
    "            elif option_type == 'put':\n",
    "                w[:, 0] = np.maximum(K - S0 * np.exp(x), 0)\n",
    "            else:\n",
    "                raise ValueError(\"Option type must be 'call' or 'put'.\")\n",
    "\n",
    "            for i in range(1, nu_max + 1):\n",
    "                for j in range(1, 2 * m):\n",
    "                    w[j, i] = fidi_lambda * w[j - 1, i - 1] + lambda_tilde * w[j, i - 1] + fidi_lambda * w[j + 1, i - 1]\n",
    "\n",
    "            # Finding the index of S0 in the grid\n",
    "            index_S0 = np.argmin(np.abs(S0 - S0 * np.exp(x)))\n",
    "            V0 = np.exp(-r * T) * w[index_S0, nu_max]\n",
    "            return V0\n",
    "\n",
    "        except TypeError as e:\n",
    "            return e\n",
    "        except ValueError as e:\n",
    "            return e"
   ]
  },
  {
   "cell_type": "markdown",
   "metadata": {},
   "source": [
    "#### Examples"
   ]
  },
  {
   "cell_type": "code",
   "execution_count": 26,
   "metadata": {},
   "outputs": [],
   "source": [
    "option_pricing = OptionPricing()\n",
    "\n",
    "# Test parameters\n",
    "S_0 = 100  # Initial stock price\n",
    "r = 0.05   # Risk-free interest rate\n",
    "sigma = 0.2  # Volatility of the underlying asset\n",
    "T = 1      # Time to expiration (in years)\n",
    "K = 105    # Strike price\n",
    "M = 100    # Number of time steps for CRR model\n",
    "\n",
    "# Test commands for different methods and scenarios"
   ]
  },
  {
   "cell_type": "markdown",
   "metadata": {},
   "source": [
    "#### Test Cox-Ross-Rubinstein (CRR) model for a European call option"
   ]
  },
  {
   "cell_type": "code",
   "execution_count": 27,
   "metadata": {},
   "outputs": [
    {
     "name": "stdout",
     "output_type": "stream",
     "text": [
      "European Call Option Price (CRR model): 5.22035442893852\n"
     ]
    }
   ],
   "source": [
    "option_type = 'call'\n",
    "option_style = 'European'\n",
    "option_price_crr_eu_call = option_pricing.CRR_Option(S_0, r, sigma, T, M, K, option_type, option_style)\n",
    "print(f\"European Call Option Price (CRR model): {option_price_crr_eu_call}\")"
   ]
  },
  {
   "cell_type": "markdown",
   "metadata": {},
   "source": [
    "#### Test Cox-Ross-Rubinstein (CRR) model for an American put option"
   ]
  },
  {
   "cell_type": "code",
   "execution_count": 28,
   "metadata": {},
   "outputs": [
    {
     "name": "stdout",
     "output_type": "stream",
     "text": [
      "American Put Option Price (CRR model): 10.971358476706754\n"
     ]
    }
   ],
   "source": [
    "option_type = 'put'\n",
    "option_style = 'American'\n",
    "option_price_crr_am_put = option_pricing.CRR_Option(S_0, r, sigma, T, M, K, option_type, option_style)\n",
    "print(f\"American Put Option Price (CRR model): {option_price_crr_am_put}\")"
   ]
  },
  {
   "cell_type": "markdown",
   "metadata": {},
   "source": [
    "#### Test Black-Scholes model for a European put option"
   ]
  },
  {
   "cell_type": "code",
   "execution_count": 29,
   "metadata": {},
   "outputs": [
    {
     "name": "stdout",
     "output_type": "stream",
     "text": [
      "European Put Option Price (Black-Scholes model): 7.9004418077181455\n"
     ]
    }
   ],
   "source": [
    "option_type = 'put'\n",
    "option_price_bs_eu_put = option_pricing.BlackScholes_Option(S_0, r, sigma, T, K, option_type)\n",
    "print(f\"European Put Option Price (Black-Scholes model): {option_price_bs_eu_put}\")"
   ]
  },
  {
   "cell_type": "markdown",
   "metadata": {},
   "source": [
    "#### Test Monte Carlo simulation for a European call/put option"
   ]
  },
  {
   "cell_type": "code",
   "execution_count": 30,
   "metadata": {},
   "outputs": [
    {
     "name": "stdout",
     "output_type": "stream",
     "text": [
      "European Call Option Price (Monte Carlo simulation): 7.817630626231709\n",
      "European Put Option Price (Monte Carlo simulation): 7.783241413911042\n"
     ]
    }
   ],
   "source": [
    "M = 10000  # Increase number of simulations for Monte Carlo\n",
    "option_type = 'call'\n",
    "option_price_mc_eu_call, _, _ = option_pricing.MonteCarlo_Option(S_0, r, sigma, T, K, M, option_type)\n",
    "print(f\"European Call Option Price (Monte Carlo simulation): {option_price_mc_eu_call}\")\n",
    "\n",
    "option_type = 'put'\n",
    "option_price_mc_eu_put, _, _ = option_pricing.MonteCarlo_Option(S_0, r, sigma, T, K, M, option_type)\n",
    "print(f\"European Put Option Price (Monte Carlo simulation): {option_price_mc_eu_put}\")"
   ]
  },
  {
   "cell_type": "markdown",
   "metadata": {},
   "source": [
    "#### Test numerical integration for an European call/put option"
   ]
  },
  {
   "cell_type": "code",
   "execution_count": 31,
   "metadata": {},
   "outputs": [
    {
     "name": "stdout",
     "output_type": "stream",
     "text": [
      "European Call Option Price (Numerical Integration): 8.021352240115052\n",
      "European Put Option Price (Numerical Integration): 7.900441807756012\n"
     ]
    }
   ],
   "source": [
    "option_type = 'call'\n",
    "option_price_int_eu_call = option_pricing.BS_Price_Int(S_0, r, sigma, T, K, option_type)\n",
    "print(f\"European Call Option Price (Numerical Integration): {option_price_int_eu_call}\")\n",
    "\n",
    "option_type = 'put'\n",
    "option_price_int_eu_put = option_pricing.BS_Price_Int(S_0, r, sigma, T, K, option_type)\n",
    "print(f\"European Put Option Price (Numerical Integration): {option_price_int_eu_put}\")"
   ]
  },
  {
   "cell_type": "markdown",
   "metadata": {},
   "source": [
    "#### Test Laplace transform method in Black-Scholes model for a European call option"
   ]
  },
  {
   "cell_type": "code",
   "execution_count": 32,
   "metadata": {},
   "outputs": [
    {
     "name": "stdout",
     "output_type": "stream",
     "text": [
      "European Call Option Price (Laplace transform method): (8.02135223514319, 6.988003944892246e-10)\n"
     ]
    }
   ],
   "source": [
    "R = 1.1\n",
    "option_type = 'call'\n",
    "option_price_laplace_call = option_pricing.laplace_BS(S_0, r, sigma, T, K, R, option_type)\n",
    "print(f\"European Call Option Price (Laplace transform method): {option_price_laplace_call}\")"
   ]
  },
  {
   "cell_type": "markdown",
   "metadata": {},
   "source": [
    "#### Test American perpetual put option (no need to specify type/style)"
   ]
  },
  {
   "cell_type": "code",
   "execution_count": 33,
   "metadata": {},
   "outputs": [
    {
     "name": "stdout",
     "output_type": "stream",
     "text": [
      "American Perpetual Put Option Price: 105.0\n"
     ]
    }
   ],
   "source": [
    "S_max = 200  # Maximum stock price\n",
    "N = 1000     # Number of grid points\n",
    "S_grid, v_grid = option_pricing.AmPerpPut_ODE(S_max, N, r, sigma, K)\n",
    "print(f\"American Perpetual Put Option Price: {v_grid[0]}\")"
   ]
  },
  {
   "cell_type": "markdown",
   "metadata": {},
   "source": [
    "#### Test Heston model using Laplace transform for a European put option"
   ]
  },
  {
   "cell_type": "code",
   "execution_count": 34,
   "metadata": {},
   "outputs": [
    {
     "name": "stdout",
     "output_type": "stream",
     "text": [
      "Heston European Put Option Price (Laplace transform method): 9.389164764812836\n"
     ]
    }
   ],
   "source": [
    "# Heston model parameters\n",
    "nu0 = math.pow(0.3, 2)     \n",
    "kappa = math.pow(0.3, 2)\n",
    "lmbda = 2.5\n",
    "sigma_tilde = 0.2\n",
    "p = 1\n",
    "option_type = 'put'\n",
    "option_price_heston_eu_put = option_pricing.laplace_heston(S_0, r, nu0, kappa, lmbda, sigma_tilde, T, K, R=1.5, p=p)\n",
    "print(f\"Heston European Put Option Price (Laplace transform method): {option_price_heston_eu_put[0]}\")"
   ]
  },
  {
   "cell_type": "markdown",
   "metadata": {},
   "source": [
    "#### Test for European call option using Finite Difference Scheme"
   ]
  },
  {
   "cell_type": "code",
   "execution_count": 35,
   "metadata": {},
   "outputs": [
    {
     "name": "stdout",
     "output_type": "stream",
     "text": [
      "European Call Option Price (Finite Difference Scheme): 6.4869934418627935\n",
      "European Put Option Price (Finite Difference Scheme): 9.330897086234348\n"
     ]
    }
   ],
   "source": [
    "m = 100  # Number of space steps\n",
    "nu_max = 1000  # Number of time steps\n",
    "\n",
    "# Test for European call option using Finite Difference Scheme\n",
    "option_type = 'call'\n",
    "option_price_fd_eu_call = option_pricing.BS_EuOption_FiDi_Explicit(S_0, r, sigma, T, K, m, nu_max, option_type)\n",
    "print(f\"European Call Option Price (Finite Difference Scheme): {option_price_fd_eu_call}\")\n",
    "\n",
    "# Test for European put option using Finite Difference Scheme\n",
    "option_type = 'put'\n",
    "option_price_fd_eu_put = option_pricing.BS_EuOption_FiDi_Explicit(S_0, r, sigma, T, K, m, nu_max, option_type)\n",
    "print(f\"European Put Option Price (Finite Difference Scheme): {option_price_fd_eu_put}\")"
   ]
  }
 ],
 "metadata": {
  "kernelspec": {
   "display_name": "Python 3",
   "language": "python",
   "name": "python3"
  },
  "language_info": {
   "codemirror_mode": {
    "name": "ipython",
    "version": 3
   },
   "file_extension": ".py",
   "mimetype": "text/x-python",
   "name": "python",
   "nbconvert_exporter": "python",
   "pygments_lexer": "ipython3",
   "version": "3.12.4"
  }
 },
 "nbformat": 4,
 "nbformat_minor": 2
}
